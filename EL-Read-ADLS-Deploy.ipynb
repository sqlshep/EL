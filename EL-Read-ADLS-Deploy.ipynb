{
 "cells": [
  {
   "cell_type": "markdown",
   "id": "88709c82",
   "metadata": {},
   "source": [
    "https://learn.microsoft.com/en-us/azure/machine-learning/how-to-setup-authentication?view=azureml-api-2&tabs=sdk\n",
    "    "
   ]
  },
  {
   "cell_type": "code",
   "execution_count": null,
   "id": "e944471e",
   "metadata": {},
   "outputs": [],
   "source": [
    "import time\n",
    "import matplotlib.pyplot as plt\n",
    "import numpy as np\n",
    "import pandas as pd\n",
    "from sklearn.model_selection import train_test_split\n",
    "from sklearn.model_selection import train_test_split\n",
    "from sklearn.ensemble import RandomForestRegressor\n",
    "from sklearn.metrics import mean_squared_error, r2_score\n",
    "\n",
    "import itertools\n",
    "import random\n",
    "import string\n",
    "import json\n",
    "import sklearn\n",
    "\n",
    "from azureml.core import Model\n",
    "from azureml.core.resource_configuration import ResourceConfiguration\n",
    "\n",
    "import pickle\n",
    "\n",
    "import mlflow\n",
    "import mlflow.keras\n",
    "from mlflow.deployments import get_deploy_client\n",
    "\n",
    "import math \n",
    "import warnings\n"
   ]
  },
  {
   "cell_type": "code",
   "execution_count": null,
   "id": "c92b3760",
   "metadata": {},
   "outputs": [],
   "source": [
    "\n",
    "# Blob SAS URL \n",
    "url ='<Blob SAS URL >'\n",
    "\n",
    "epa = pd.read_csv(url)\n",
    "epa.head()\n"
   ]
  },
  {
   "cell_type": "code",
   "execution_count": null,
   "id": "982ad29e",
   "metadata": {},
   "outputs": [],
   "source": [
    "print(np.__version__)"
   ]
  },
  {
   "cell_type": "code",
   "execution_count": null,
   "id": "b933b94f",
   "metadata": {},
   "outputs": [],
   "source": [
    "from azureml.core import Workspace\n",
    "\n",
    "\n",
    "ws = Workspace.from_config()\n",
    "#print(ws.name, ws.resource_group, ws.location, ws.subscription_id, sep='\\n')"
   ]
  },
  {
   "cell_type": "code",
   "execution_count": null,
   "id": "5560563f",
   "metadata": {},
   "outputs": [],
   "source": [
    "model_metrics = pd.DataFrame(columns=[\"Model\", \"MSE\", \"RMSE\", \"R2\"], dtype=object)\n",
    "\n",
    "\n",
    "def metrics(model, y, y_hat):\n",
    "\n",
    "    model_metrics.loc[-1] = {\"Model\" : model, \n",
    "              \"MSE\" : mean_squared_error(y, y_hat),\n",
    "              \"RMSE\" : math.sqrt(mean_squared_error(y, y_hat)),\n",
    "              \"R2\" : r2_score(y, y_hat)}\n",
    "\n",
    "    model_metrics.index = model_metrics.index + 1\n",
    "    return model_metrics \n",
    "\n",
    "#metrics(\"PCA Forest\",y_test, epa_pca_y_pred)"
   ]
  },
  {
   "cell_type": "code",
   "execution_count": null,
   "id": "69ff5192",
   "metadata": {},
   "outputs": [],
   "source": [
    "#Drop the row number\n",
    "epa = epa.drop(epa.columns[[0]], axis=1)\n",
    "\n",
    "#replace the \".\" in the column names with \"_\"\n",
    "epa.columns = epa.columns.str.replace('.', '_')\n",
    "\n",
    "# Drop the first three columns\n",
    "epa = epa.drop(epa.columns[[0,1,2]], axis=1)\n",
    "\n",
    "# drop descrition columns\n",
    "epa = epa.drop(epa.columns[[3,9,11]], axis=1)\n",
    "epa\n"
   ]
  },
  {
   "cell_type": "code",
   "execution_count": null,
   "id": "44a18343",
   "metadata": {},
   "outputs": [],
   "source": [
    "epa['Tested_Transmission_Type_Code']= epa['Tested_Transmission_Type_Code'].astype('category')\n",
    "    \n",
    "epa['Drive_System_Code']= epa['Drive_System_Code'].astype('category')"
   ]
  },
  {
   "cell_type": "code",
   "execution_count": null,
   "id": "4fd361b3",
   "metadata": {},
   "outputs": [],
   "source": [
    "#One hot encode categories\n",
    "epa = pd.get_dummies(epa)"
   ]
  },
  {
   "cell_type": "code",
   "execution_count": null,
   "id": "2fe975e1",
   "metadata": {},
   "outputs": [],
   "source": [
    "# Create the training dataset for scikit learn, you will need all varialbes except the labe you are trying to predict\n",
    "epa_X = epa.iloc[:, epa.columns !='FuelEcon']\n",
    "#epa_X = epa.iloc[:, epa.columns =='Weight']\n",
    "epa_X\n",
    "\n"
   ]
  },
  {
   "cell_type": "code",
   "execution_count": null,
   "id": "e23d9c4e",
   "metadata": {},
   "outputs": [],
   "source": [
    "epa_y = epa.iloc[:, epa.columns =='FuelEcon']"
   ]
  },
  {
   "cell_type": "code",
   "execution_count": null,
   "id": "610e0771",
   "metadata": {},
   "outputs": [],
   "source": [
    "# Split the training and test set \n",
    "X_train, X_test, y_train, y_test = train_test_split(epa_X, epa_y, test_size=0.20)"
   ]
  },
  {
   "cell_type": "code",
   "execution_count": null,
   "id": "3f3bf992",
   "metadata": {},
   "outputs": [],
   "source": [
    "experiment_name=\"EPA_RandomForest\"\n",
    "mlflow.set_experiment(experiment_name=experiment_name)\n",
    "mlflow.sklearn.autolog()\n",
    "run = mlflow.start_run()"
   ]
  },
  {
   "cell_type": "code",
   "execution_count": null,
   "id": "11e15b5d",
   "metadata": {},
   "outputs": [],
   "source": [
    "epa_forest = RandomForestRegressor()\n",
    "epa_forest.fit(X_train, y_train)"
   ]
  },
  {
   "cell_type": "code",
   "execution_count": null,
   "id": "ee75589b",
   "metadata": {},
   "outputs": [],
   "source": [
    "forest_y_hat = epa_forest.predict(X_test)"
   ]
  },
  {
   "cell_type": "code",
   "execution_count": null,
   "id": "807c4ae7",
   "metadata": {},
   "outputs": [],
   "source": [
    "metrics(\"RandomForestRegressor\",y_test, forest_y_hat)"
   ]
  },
  {
   "cell_type": "code",
   "execution_count": null,
   "id": "b41c6a28",
   "metadata": {},
   "outputs": [],
   "source": [
    "mlflow.end_run()"
   ]
  },
  {
   "cell_type": "code",
   "execution_count": null,
   "id": "92aa1976",
   "metadata": {},
   "outputs": [],
   "source": [
    "run = mlflow.get_run(run.info.run_id)\n",
    "pd.DataFrame(data=[run.data.params], index=[\"Value\"]).T"
   ]
  },
  {
   "cell_type": "code",
   "execution_count": null,
   "id": "000934af",
   "metadata": {},
   "outputs": [],
   "source": [
    "mlflow.get_experiment_by_name\n",
    "exp = mlflow.get_experiment_by_name(experiment_name)\n",
    "last_run = mlflow.search_runs(exp.experiment_id, output_format=\"list\")[-1]\n",
    "print(last_run.info.run_id)"
   ]
  },
  {
   "cell_type": "code",
   "execution_count": null,
   "id": "90cf5264",
   "metadata": {},
   "outputs": [],
   "source": [
    "model_name = \"EPA_RandomForest\"\n",
    "artifact_path = \"model\"\n",
    "\n",
    "mlflow.register_model(f\"runs:/{last_run.info.run_id}/{artifact_path}\", model_name)"
   ]
  },
  {
   "cell_type": "code",
   "execution_count": null,
   "id": "c89cb04c",
   "metadata": {},
   "outputs": [],
   "source": [
    "# Creating a unique endpoint name by including a random suffix\n",
    "allowed_chars = string.ascii_lowercase + string.digits\n",
    "endpoint_suffix = \"\".join(random.choice(allowed_chars) for x in range(5))\n",
    "endpoint_name = \"EPA-RandomForest-\" + endpoint_suffix\n",
    "\n",
    "print(f\"Endpoint name: {endpoint_name}\")"
   ]
  },
  {
   "cell_type": "code",
   "execution_count": null,
   "id": "46762f34",
   "metadata": {},
   "outputs": [],
   "source": [
    "deployment_client = get_deploy_client(mlflow.get_tracking_uri())"
   ]
  },
  {
   "cell_type": "code",
   "execution_count": null,
   "id": "9d25b4aa",
   "metadata": {},
   "outputs": [],
   "source": [
    "endpoint = deployment_client.create_endpoint(endpoint_name)"
   ]
  },
  {
   "cell_type": "code",
   "execution_count": null,
   "id": "1206daf0",
   "metadata": {},
   "outputs": [],
   "source": [
    "scoring_uri = deployment_client.get_endpoint(endpoint=endpoint_name)[\"properties\"][\n",
    "    \"scoringUri\"\n",
    "]\n",
    "print(scoring_uri)"
   ]
  },
  {
   "cell_type": "code",
   "execution_count": null,
   "id": "f7386e75",
   "metadata": {},
   "outputs": [],
   "source": [
    "deployment_name = \"default\"\n",
    "deploy_config = {\n",
    "    \"instance_type\": \"Standard_DS3_v2\",\n",
    "    \"instance_count\": 1,\n",
    "    \"failure_threshold\": 60\n",
    "}\n",
    "\n",
    "\n",
    "deployment_config_path = \"deployment_config.json\"\n",
    "with open(deployment_config_path, \"w\") as outfile:\n",
    "    outfile.write(json.dumps(deploy_config))"
   ]
  },
  {
   "cell_type": "code",
   "execution_count": null,
   "id": "94398450",
   "metadata": {},
   "outputs": [],
   "source": [
    "version = 1\n",
    "\n",
    "deployment = deployment_client.create_deployment(\n",
    "    name=deployment_name,\n",
    "    endpoint=endpoint_name,\n",
    "    model_uri=f\"models:/{model_name}/{version}\",\n",
    "    config={\"deploy-config-file\": deployment_config_path},\n",
    ")"
   ]
  },
  {
   "cell_type": "code",
   "execution_count": null,
   "id": "b8303c67",
   "metadata": {},
   "outputs": [],
   "source": [
    "traffic_config = {\"traffic\": {deployment_name: 100}}\n"
   ]
  },
  {
   "cell_type": "code",
   "execution_count": null,
   "id": "9e51be2d",
   "metadata": {},
   "outputs": [],
   "source": [
    "traffic_config_path = \"traffic_config.json\"\n",
    "with open(traffic_config_path, \"w\") as outfile:\n",
    "    outfile.write(json.dumps(traffic_config))\n",
    "    "
   ]
  },
  {
   "cell_type": "code",
   "execution_count": null,
   "id": "228d642c",
   "metadata": {},
   "outputs": [],
   "source": [
    "deployment_client.update_endpoint(\n",
    "    endpoint=endpoint_name,\n",
    "    config={\"endpoint-config-file\": traffic_config_path},\n",
    ")"
   ]
  },
  {
   "cell_type": "code",
   "execution_count": null,
   "id": "fa89a46c",
   "metadata": {},
   "outputs": [],
   "source": [
    "#deployment_client.delete_deployment(endpoint_name)"
   ]
  },
  {
   "cell_type": "code",
   "execution_count": null,
   "id": "1dded116",
   "metadata": {},
   "outputs": [],
   "source": []
  },
  {
   "cell_type": "code",
   "execution_count": null,
   "id": "cb43ea80",
   "metadata": {},
   "outputs": [],
   "source": []
  }
 ],
 "metadata": {
  "kernelspec": {
   "display_name": "Python 3.8 - AzureML",
   "language": "python",
   "name": "python38-azureml"
  },
  "language_info": {
   "codemirror_mode": {
    "name": "ipython",
    "version": 3
   },
   "file_extension": ".py",
   "mimetype": "text/x-python",
   "name": "python",
   "nbconvert_exporter": "python",
   "pygments_lexer": "ipython3",
   "version": "3.8.5"
  }
 },
 "nbformat": 4,
 "nbformat_minor": 5
}
